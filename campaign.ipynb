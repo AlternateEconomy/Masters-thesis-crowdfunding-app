{
  "nbformat": 4,
  "nbformat_minor": 0,
  "metadata": {
    "colab": {
      "name": "Untitled26.ipynb",
      "provenance": []
    },
    "kernelspec": {
      "name": "python3",
      "display_name": "Python 3"
    },
    "language_info": {
      "name": "python"
    }
  },
  "cells": [
    {
      "cell_type": "code",
      "metadata": {
        "id": "GpdxRo4FSPab"
      },
      "source": [
        "%%capture\n",
        "!pip install flask_ngrok"
      ],
      "execution_count": null,
      "outputs": []
    },
    {
      "cell_type": "code",
      "metadata": {
        "id": "9OgNA3NySMM2"
      },
      "source": [
        "import numpy as np\n",
        "from flask import Flask, request, jsonify, render_template\n",
        "import joblib\n",
        "from flask_ngrok import run_with_ngrok\n",
        "app = Flask(__name__)\n",
        "run_with_ngrok(app)\n",
        "\n",
        "model = joblib.load(open('crowdfundpredict_new.pkl', 'rb'))\n",
        "\n",
        "@app.route('/')\n",
        "def home():\n",
        "    return render_template('index.html')\n",
        "\n",
        "@app.route('/', methods=['GET', 'POST'])\n",
        "def index():\n",
        "    if request.method == 'POST':\n",
        "        description = request.form['description']\n",
        "        description = [description]\n",
        "        string = model.predict(description)\n",
        "        return render_template('index.html', pred=string)\n",
        "\n",
        "if __name__ == '__main__':\n",
        "     app.run()"
      ],
      "execution_count": null,
      "outputs": []
    }
  ]
}
